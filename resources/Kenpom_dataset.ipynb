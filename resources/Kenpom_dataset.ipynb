{
 "cells": [
  {
   "cell_type": "code",
   "execution_count": 268,
   "metadata": {},
   "outputs": [],
   "source": [
    "# Creating Kenpom database since 2002"
   ]
  },
  {
   "cell_type": "code",
   "execution_count": 269,
   "metadata": {
    "collapsed": true
   },
   "outputs": [],
   "source": [
    "# import statements\n",
    "from bs4 import BeautifulSoup\n",
    "import pandas as pd\n",
    "from urllib.request import urlopen, Request"
   ]
  },
  {
   "cell_type": "code",
   "execution_count": 259,
   "metadata": {},
   "outputs": [],
   "source": [
    "# Initalizing kenpom_df, scraping team stats, and adding\n",
    "\n",
    "kenpom_df = pd.DataFrame()\n",
    "\n",
    "# base kenpom url with year removed\n",
    "base_url = 'https://kenpom.com/index.php?y='\n",
    "\n",
    "# iterate through years, grab page, scrape into df\n",
    "for year in range(2002,2019):\n",
    "    req = Request(base_url+str(year))\n",
    "    page = urlopen(req)\n",
    "    soup = BeautifulSoup(page, 'lxml')\n",
    "    soup_html = soup.find_all('td')\n",
    "    \n",
    "    # find all table rows x tourney class\n",
    "    kp_proto_doct = {}\n",
    "    for num,team in enumerate(soup_html):\n",
    "        data = list(team.strings)\n",
    "        kp_proto_doct[num] = data\n",
    "\n",
    "    # combine into team specific rows\n",
    "    kp_team_data = []\n",
    "    kp_vals = list(kp_proto_doct.values())    \n",
    "    kp_vals = [val[0] for val in kp_vals] # this also gets rid of tourney seeds for 2018\n",
    "    start = 0\n",
    "    end = 21\n",
    "    while end < len(kp_vals):\n",
    "        row = kp_vals[start:end]\n",
    "        kp_team_data.append(row)\n",
    "        start += 21\n",
    "        end += 21\n",
    "\n",
    "    # push into intermediate df so year can be added \n",
    "    kp_df = pd.DataFrame(kp_team_data)\n",
    "    kp_df['Year'] = year\n",
    "    kenpom_df = kenpom_df.append(kp_df)\n",
    "    #print('Year added:', year)"
   ]
  },
  {
   "cell_type": "code",
   "execution_count": 260,
   "metadata": {},
   "outputs": [],
   "source": [
    "# list of headers\n",
    "headers = ['Rank', 'Team', 'Conf','W-L',\n",
    " 'AdjEM',\n",
    " 'AdjO', 'AdjO_Rank',\n",
    " 'AdjD', 'AdjD_Rank',\n",
    " 'AdjT', 'AdjT_Rank',\n",
    " 'Luck', 'Luck_Rank',\n",
    " 'AdjEM', 'AdjEM_Rank',\n",
    " 'OppO', 'OppO_Rank',\n",
    " 'OppD', 'OppD_Rank',\n",
    " 'AdjEM', 'AdjEM_Rank',\n",
    " 'Year']"
   ]
  },
  {
   "cell_type": "code",
   "execution_count": 261,
   "metadata": {},
   "outputs": [],
   "source": [
    "# adding headers\n",
    "kenpom_df.columns = headers"
   ]
  },
  {
   "cell_type": "code",
   "execution_count": 265,
   "metadata": {},
   "outputs": [],
   "source": [
    "# splitting w-l into two columns\n",
    "kenpom_df['W'], kenpom_df['L'] = kenpom_df['W-L'].str.split('-', 1).str\n",
    "del kenpom_df['W-L']"
   ]
  },
  {
   "cell_type": "code",
   "execution_count": 267,
   "metadata": {},
   "outputs": [],
   "source": []
  },
  {
   "cell_type": "code",
   "execution_count": null,
   "metadata": {
    "collapsed": true
   },
   "outputs": [],
   "source": []
  }
 ],
 "metadata": {
  "kernelspec": {
   "display_name": "Python 3",
   "language": "python",
   "name": "python3"
  },
  "language_info": {
   "codemirror_mode": {
    "name": "ipython",
    "version": 3
   },
   "file_extension": ".py",
   "mimetype": "text/x-python",
   "name": "python",
   "nbconvert_exporter": "python",
   "pygments_lexer": "ipython3",
   "version": "3.6.1"
  }
 },
 "nbformat": 4,
 "nbformat_minor": 2
}
